{
 "cells": [
  {
   "cell_type": "code",
   "execution_count": null,
   "metadata": {
    "id": "Rp-JfNb7j9jI"
   },
   "outputs": [],
   "source": [
    "# Time-series analysis - March 2024 - with Tractor-Sales.csv data"
   ]
  },
  {
   "cell_type": "code",
   "execution_count": null,
   "metadata": {},
   "outputs": [],
   "source": [
    "# import needed common libraries\n",
    "import pandas as pd\n",
    "import numpy as np\n",
    "import matplotlib.pylab as plt "
   ]
  },
  {
   "cell_type": "code",
   "execution_count": null,
   "metadata": {},
   "outputs": [],
   "source": [
    "import os\n",
    "os.chdir(\"Documents\")\n",
    "os.getcwd()"
   ]
  },
  {
   "cell_type": "code",
   "execution_count": null,
   "metadata": {},
   "outputs": [],
   "source": [
    "# read the Tractor-Sales.csv data file\n",
    "df = pd.read_csv('Tractor-Sales.csv')\n",
    "df.head()"
   ]
  },
  {
   "cell_type": "code",
   "execution_count": null,
   "metadata": {},
   "outputs": [],
   "source": [
    "# Convert Date column to datetime column\n",
    "df['Date'] = pd.to_datetime(df['Date'], format='%b-%Y').dt.strftime('%Y-%m-%d')\n",
    "\n",
    "df"
   ]
  },
  {
   "cell_type": "code",
   "execution_count": null,
   "metadata": {
    "scrolled": true
   },
   "outputs": [],
   "source": [
    "# Convert data to time series\n",
    "sales_ts = pd.Series(df['Sales'].values, index=df['Date'], name='Sales')\n",
    "sales_ts"
   ]
  },
  {
   "cell_type": "code",
   "execution_count": null,
   "metadata": {},
   "outputs": [],
   "source": [
    "# Plot the time series\n",
    "# Is this time series stationary?\n",
    "import matplotlib.pylab as plt\n",
    "ax = sales_ts.plot()\n",
    "ax.set_xlabel('Date')\n",
    "ax.set_ylabel('Sales')\n",
    "plt.show()"
   ]
  },
  {
   "cell_type": "code",
   "execution_count": null,
   "metadata": {},
   "outputs": [],
   "source": [
    "# Dickey-Fuller Test to verify whether a time-series is stationary\n",
    "# Null hypothesis: Series is non-stationary\n",
    "# p-vlaue: non-significance indicating non-stationary\n",
    "# Test Statistic > Critical Value: Reject null hypothesis and conclude Series is stationary\n",
    "\n",
    "from statsmodels.tsa.stattools import adfuller\n",
    "print('Results of Dickey-Fuller Test:')\n",
    "dftest = adfuller(sales_ts.values[1:],autolag='AIC')\n",
    "dfoutput = pd.Series(dftest[0:4],index=['Test Statistic', 'p-value', '#lags used', 'Number of observations Used'])\n",
    "\n",
    "for key , value in dftest[4].items(): dfoutput['Critical Value (%s)'%key] = value\n",
    "print(dfoutput)\n"
   ]
  },
  {
   "cell_type": "code",
   "execution_count": null,
   "metadata": {},
   "outputs": [],
   "source": [
    "# Log transformation to achieve constant variance\n",
    "import numpy as np\n",
    "sales_ts_log = np.log10(sales_ts)\n",
    "ax = sales_ts_log.plot()\n",
    "ax.set_xlabel('Date')\n",
    "ax.set_ylabel('Log Transformed Sales')\n",
    "plt.show()"
   ]
  },
  {
   "cell_type": "code",
   "execution_count": null,
   "metadata": {},
   "outputs": [],
   "source": [
    "# Plot ACF to check potential seasonality\n",
    "# ACF: autocorrelation factor\n",
    "import statsmodels.tsa.api as smt\n",
    "sales_ts_log_diff = sales_ts_log.diff(periods= 1)\n",
    "sales_ts_log_diff.dropna(inplace=True)\n",
    "smt.graphics.plot_acf(sales_ts_log_diff, lags=30, alpha= 0.05)\n",
    "plt.show()"
   ]
  },
  {
   "cell_type": "code",
   "execution_count": null,
   "metadata": {},
   "outputs": [],
   "source": [
    "# Partial ACF plot to show significant lags\n",
    "smt.graphics.plot_pacf(sales_ts_log_diff, lags=30, alpha= 0.05)\n",
    "plt.show()"
   ]
  },
  {
   "cell_type": "code",
   "execution_count": null,
   "metadata": {},
   "outputs": [],
   "source": [
    "# Data partition for the time series data\n",
    "# Keep the last three years data as the validation dataset\n",
    "nValid = 36\n",
    "nTrain = len(sales_ts_log) - nValid\n",
    "train_ts = sales_ts_log[:nTrain]\n",
    "valid_ts = sales_ts_log[nTrain:]"
   ]
  },
  {
   "cell_type": "code",
   "execution_count": null,
   "metadata": {},
   "outputs": [],
   "source": [
    "# Test a SARIMA model\n",
    "import statsmodels.api as sm\n",
    "temp_model = sm.tsa.statespace.SARIMAX(train_ts,\n",
    "                                       order=(1,1,1),\n",
    "                                       seasonal_order=(1,0,1,12),\n",
    "                                       enforce_stationarity=True,\n",
    "                                       enforce_invertibility=True)\n",
    "results = temp_model.fit()\n",
    "print(results.summary())"
   ]
  },
  {
   "cell_type": "code",
   "execution_count": null,
   "metadata": {},
   "outputs": [],
   "source": [
    "# forecast with the fitted model\n",
    "pred = results.get_forecast(steps=36,alpha=0.05)\n",
    "\n",
    "# Get the forecasted values\n",
    "forecasted_values = pred.predicted_mean\n",
    "\n",
    "# Get the confidence intervals for the forecasted values\n",
    "confidence_intervals = pred.conf_int()\n",
    "\n",
    "# Print the forecasted values\n",
    "print(\"Forecasted values:\")\n",
    "print(forecasted_values)\n",
    "\n",
    "# Print the confidence intervals\n",
    "print(\"\\n95% confidence intervals:\")\n",
    "print(confidence_intervals)"
   ]
  },
  {
   "cell_type": "code",
   "execution_count": null,
   "metadata": {},
   "outputs": [],
   "source": [
    "# Search for best parameters for SARIMA\n",
    "# generate the parameter combinations\n",
    "# Define the p, d and q parameters to take any value between 0 and 2\n",
    "import itertools\n",
    "\n",
    "p = d = q = range(0,2)\n",
    "\n",
    "# Generate all possible combinations of p, d and q triplets\n",
    "pdq = list(itertools.product(p, d, q))\n",
    "\n",
    "# Generate all possible combinations of seasonal p, d and q triplets\n",
    "seasonal_pdq = [(x[0],x[1],x[2],12) for x in list(itertools.product(p, d, q))]\n",
    "\n",
    "print(pdq)\n",
    "print(seasonal_pdq)\n"
   ]
  },
  {
   "cell_type": "code",
   "execution_count": null,
   "metadata": {},
   "outputs": [],
   "source": [
    "import sys\n",
    "# Specify to ignore warning messages\n",
    "import warnings\n",
    "warnings.filterwarnings(\"ignore\")\n",
    "\n",
    "from datetime import datetime\n",
    "print(\"Start search time:\", datetime.now())\n",
    "\n",
    "# Set up the initial values\n",
    "best_aic = np.inf\n",
    "best_pdq = None\n",
    "best_seasonal_pdq = None\n",
    "temp_model = None\n",
    "\n",
    "import statsmodels.api as sm\n",
    "# Using loops to search for the best SARIMA model\n",
    "# Choose the best SARIMA model based on minimum AIC values\n",
    "# AIC: to balance the model between goodness-of-fit and number of parameters\n",
    "for param in pdq:\n",
    "    for param_seasonal in seasonal_pdq:\n",
    "        try:\n",
    "            temp_model = sm.tsa.statespace.SARIMAX(train_ts,\n",
    "                                            order=param,\n",
    "                                            seasonal_order=param_seasonal,\n",
    "                                            enforce_stationarity=True,\n",
    "                                            enforce_invertibility=True)\n",
    "            results = temp_model.fit()\n",
    "\n",
    "            if results.aic < best_aic:\n",
    "                best_aic = results.aic\n",
    "                best_pdq = param\n",
    "                best_seasonal_pdq = param_seasonal\n",
    "\n",
    "        except:\n",
    "            continue\n",
    "\n",
    "print(\"Best SARIMAX{}x{}12 model - AIC:{}\".format(best_pdq, best_seasonal_pdq, best_aic))\n",
    "\n",
    "print(\"End search time:\", datetime.now())"
   ]
  },
  {
   "cell_type": "code",
   "execution_count": null,
   "metadata": {},
   "outputs": [],
   "source": [
    "# run best model\n",
    "best_model = sm.tsa.statespace.SARIMAX(train_ts,\n",
    "                                       order=(0,1,1),\n",
    "                                       seasonal_order=(1,0,1,12),\n",
    "                                       enforce_stationarity=True,\n",
    "                                       enforce_invertibility=True)\n",
    "best_results = best_model.fit()\n",
    "\n",
    "print(best_results.summary())\n"
   ]
  },
  {
   "cell_type": "code",
   "execution_count": null,
   "metadata": {},
   "outputs": [],
   "source": [
    "!pip install dmba"
   ]
  },
  {
   "cell_type": "code",
   "execution_count": null,
   "metadata": {},
   "outputs": [],
   "source": [
    "# !pip install dmba\n",
    "# after installing the above library, you can comment the above line for subsequent code runs\n",
    "\n",
    "from dmba import regressionSummary\n",
    "regressionSummary(np.power(10,valid_ts),\n",
    "                  np.power(10,pred.predicted_mean))"
   ]
  },
  {
   "cell_type": "code",
   "execution_count": null,
   "metadata": {},
   "outputs": [],
   "source": [
    "pred = best_results.get_forecast(steps=36,alpha=0.05)\n",
    "\n",
    "# Get the forecasted values\n",
    "forecasted_values = pred.predicted_mean\n",
    "\n",
    "# Get the confidence intervals for the forecasted values\n",
    "confidence_intervals = pred.conf_int()\n",
    "\n",
    "# Print the forecasted values\n",
    "print(\"Forecasted values:\")\n",
    "print(forecasted_values)\n",
    "\n",
    "# Print the confidence intervals\n",
    "print(\"\\n95% confidence intervals:\")\n",
    "print(confidence_intervals)"
   ]
  },
  {
   "cell_type": "code",
   "execution_count": null,
   "metadata": {},
   "outputs": [],
   "source": [
    "ax = pred.predicted_mean.plot()\n",
    "ax.set_xlabel('Date')\n",
    "ax.set_ylabel('Log Transformed Sales')\n",
    "plt.show()"
   ]
  },
  {
   "cell_type": "code",
   "execution_count": null,
   "metadata": {},
   "outputs": [],
   "source": []
  },
  {
   "cell_type": "code",
   "execution_count": null,
   "metadata": {},
   "outputs": [],
   "source": []
  }
 ],
 "metadata": {
  "colab": {
   "authorship_tag": "ABX9TyPGt8RheY+toKi0husxWzv9",
   "provenance": []
  },
  "kernelspec": {
   "display_name": "Python 3 (ipykernel)",
   "language": "python",
   "name": "python3"
  },
  "language_info": {
   "codemirror_mode": {
    "name": "ipython",
    "version": 3
   },
   "file_extension": ".py",
   "mimetype": "text/x-python",
   "name": "python",
   "nbconvert_exporter": "python",
   "pygments_lexer": "ipython3",
   "version": "3.11.7"
  }
 },
 "nbformat": 4,
 "nbformat_minor": 4
}
