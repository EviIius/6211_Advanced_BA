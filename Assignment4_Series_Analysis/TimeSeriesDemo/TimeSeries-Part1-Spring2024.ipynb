{
 "cells": [
  {
   "cell_type": "code",
   "execution_count": null,
   "metadata": {
    "id": "Rp-JfNb7j9jI",
    "jupyter": {
     "source_hidden": true
    }
   },
   "outputs": [],
   "source": [
    "# Time-series analysis - March 2024 - Amtrak.csv dataset"
   ]
  },
  {
   "cell_type": "code",
   "execution_count": null,
   "metadata": {},
   "outputs": [],
   "source": [
    "# import needed common libraries\n",
    "import pandas as pd\n",
    "import numpy as np\n",
    "import matplotlib.pylab as plt "
   ]
  },
  {
   "cell_type": "code",
   "execution_count": null,
   "metadata": {},
   "outputs": [],
   "source": [
    "import os\n",
    "os.chdir(\"Documents\")\n",
    "os.getcwd()"
   ]
  },
  {
   "cell_type": "code",
   "execution_count": null,
   "metadata": {
    "scrolled": true
   },
   "outputs": [],
   "source": [
    "# read the Tractor-Sales.csv data file\n",
    "df = pd.read_csv('Amtrak.csv')\n",
    "df.head()"
   ]
  },
  {
   "cell_type": "code",
   "execution_count": null,
   "metadata": {},
   "outputs": [],
   "source": [
    "# Convert Month column to date format\n",
    "df[\"Date\"] = pd.to_datetime(df[\"Month\"], format='%d/%m/%Y')\n",
    "df\n"
   ]
  },
  {
   "cell_type": "code",
   "execution_count": null,
   "metadata": {
    "scrolled": true
   },
   "outputs": [],
   "source": [
    "# Convert data to time series\n",
    "rider_ts = pd.Series(df.Ridership.values, index=df.Date, name='Ridership')"
   ]
  },
  {
   "cell_type": "code",
   "execution_count": null,
   "metadata": {
    "scrolled": true
   },
   "outputs": [],
   "source": [
    "# Plot the time series\n",
    "# Do you observe any trend and seasonality in the plot?\n",
    "ax = rider_ts.plot()\n",
    "ax.set_xlabel('Time')\n",
    "ax.set_ylabel('Ridership (in 000s)')\n",
    "ax.set_ylim(1300,2300)\n",
    "plt.show()"
   ]
  },
  {
   "cell_type": "code",
   "execution_count": null,
   "metadata": {},
   "outputs": [],
   "source": [
    "# Data partition for the time series data\n",
    "# Keep the last three years data as the validation dataset\n",
    "nValid = 36\n",
    "nTrain = len(rider_ts) - nValid\n",
    "train_ts = rider_ts[:nTrain]\n",
    "valid_ts = rider_ts[nTrain:]"
   ]
  },
  {
   "cell_type": "code",
   "execution_count": null,
   "metadata": {},
   "outputs": [],
   "source": [
    "# Model 1: A linear trend time series model\n",
    "import statsmodels.formula.api as sm\n",
    "from statsmodels.tsa import tsatools, stattools\n",
    "ts_df = tsatools.add_trend(rider_ts,trend='ct')  # \"ct\" adds both constant and trend\n",
    "ts_df['Month']=ts_df.index.month\n",
    "\n",
    "# display updated ts_df\n",
    "ts_df"
   ]
  },
  {
   "cell_type": "code",
   "execution_count": null,
   "metadata": {
    "scrolled": true
   },
   "outputs": [],
   "source": [
    "# partition data frame into training and validation to run regression\n",
    "nValid = 36\n",
    "nTrain = len(rider_ts) - nValid\n",
    "train_df = ts_df[:nTrain]\n",
    "valid_df = ts_df[nTrain:]\n"
   ]
  },
  {
   "cell_type": "code",
   "execution_count": null,
   "metadata": {},
   "outputs": [],
   "source": [
    "# fit a linear regression model\n",
    "rider_lm = sm.ols(formula='Ridership ~ trend',data=train_df).fit()\n",
    "\n",
    "rider_lm.summary()"
   ]
  },
  {
   "cell_type": "code",
   "execution_count": null,
   "metadata": {},
   "outputs": [],
   "source": [
    "# Evaluate Model1 performance\n",
    "# ! pip install dmba\n",
    "# Comment the above install code after dmba library has been installed\n",
    "from dmba import regressionSummary\n",
    "predict_lm = rider_lm.predict(valid_df)\n",
    "regressionSummary(valid_ts,predict_lm)"
   ]
  },
  {
   "cell_type": "code",
   "execution_count": null,
   "metadata": {},
   "outputs": [],
   "source": [
    "# Model 2: A polynomial trend time series model\n",
    "import numpy as np\n",
    "rider_lm_poly = sm.ols(formula='Ridership ~ trend + np.square(trend) + np.power(trend,3)',\n",
    "data=train_df).fit()\n",
    "rider_lm_poly.summary()"
   ]
  },
  {
   "cell_type": "code",
   "execution_count": null,
   "metadata": {},
   "outputs": [],
   "source": [
    "# Evaluate Model2 performance\n",
    "predict_lm_poly = rider_lm_poly.predict(valid_df)\n",
    "regressionSummary(valid_ts,predict_lm_poly)"
   ]
  },
  {
   "cell_type": "code",
   "execution_count": null,
   "metadata": {},
   "outputs": [],
   "source": [
    "# Model 3: An additive seasonality model; C(Month) is used to specify Month as a categorical variable\n",
    "rider_lm_season = sm.ols(formula='Ridership~C(Month)',data=train_df).fit()\n",
    "rider_lm_season.summary()"
   ]
  },
  {
   "cell_type": "code",
   "execution_count": null,
   "metadata": {},
   "outputs": [],
   "source": [
    "# Evaluate Model3 performance\n",
    "predict_lm_season = rider_lm_season.predict(valid_df)\n",
    "regressionSummary(valid_ts, predict_lm_season)"
   ]
  },
  {
   "cell_type": "code",
   "execution_count": null,
   "metadata": {},
   "outputs": [],
   "source": [
    "# Model 4: A model with trend and seasonality\n",
    "modelfomula = 'Ridership ~ trend + C(Month)'\n",
    "rider_lm_trendseason = sm.ols(formula=modelfomula, data=train_df).fit()\n",
    "rider_lm_trendseason.summary()"
   ]
  },
  {
   "cell_type": "code",
   "execution_count": null,
   "metadata": {},
   "outputs": [],
   "source": [
    "# Evaluate Model4 performance\n",
    "predict_lm_trendseason = rider_lm_trendseason.predict(valid_df)\n",
    "regressionSummary(valid_ts,predict_lm_trendseason)"
   ]
  },
  {
   "cell_type": "code",
   "execution_count": null,
   "metadata": {},
   "outputs": [],
   "source": [
    "# Visulize Model4\n",
    "# Blue line for the original time series\n",
    "# Orange line for the forecasted time series\n",
    "fig, ax = plt.subplots(nrows=1,ncols=1,figsize=(9,3.75))\n",
    "train_df.plot(y='Ridership',ax=ax,color='C0',linewidth=2)\n",
    "valid_df.plot(y='Ridership',ax=ax,color='C0',linewidth=2, linestyle='dashed')\n",
    "rider_lm_trendseason.predict(train_df).plot(color='C1')\n",
    "rider_lm_trendseason.predict(valid_df).plot(color='C1',linestyle='dashed')\n",
    "ax.get_legend().remove()\n",
    "plt.show()"
   ]
  },
  {
   "cell_type": "code",
   "execution_count": null,
   "metadata": {},
   "outputs": [],
   "source": [
    "# Model 5: A model with polynomial trend and seasonality\n",
    "modelfomula = 'Ridership ~ trend + np.square(trend) + C(Month)'\n",
    "rider_lm_trendseason = sm.ols(formula=modelfomula, data=train_df).fit()\n",
    "rider_lm_trendseason.summary()"
   ]
  },
  {
   "cell_type": "code",
   "execution_count": null,
   "metadata": {},
   "outputs": [],
   "source": [
    "# Evaluate Model5 performance\n",
    "predict_lm_trendseason = rider_lm_trendseason.predict(valid_df)\n",
    "regressionSummary(valid_ts,predict_lm_trendseason)"
   ]
  },
  {
   "cell_type": "code",
   "execution_count": null,
   "metadata": {},
   "outputs": [],
   "source": [
    "# Visulize Model5\n",
    "# Blue line for the original time series\n",
    "# Orange line for the forecasted time series\n",
    "fig, ax = plt.subplots(nrows=1,ncols=1,figsize=(9,3.75))\n",
    "train_df.plot(y='Ridership',ax=ax,color='C0',linewidth=2)\n",
    "valid_df.plot(y='Ridership',ax=ax,color='C0',linewidth=2, linestyle='dashed')\n",
    "rider_lm_trendseason.predict(train_df).plot(color='C1')\n",
    "rider_lm_trendseason.predict(valid_df).plot(color='C1',linestyle='dashed')\n",
    "ax.get_legend().remove()\n",
    "plt.show()"
   ]
  },
  {
   "cell_type": "code",
   "execution_count": null,
   "metadata": {},
   "outputs": [],
   "source": [
    "# Using pandas to compute the Simple Moving Average (SMA) with a window of 12 months\n",
    "df['SMA_6'] = df['Ridership'].rolling(window=6).mean()\n",
    "\n",
    "# Using pandas to compute Exponential Smoothing (ES); here we use a common smoothing factor alpha = 0.2\n",
    "df['ES_0.2'] = df['Ridership'].ewm(alpha=0.2, adjust=False).mean()\n",
    "\n",
    "# Show the dataset with the new SMA and ES columns\n",
    "df[['Ridership', 'SMA_6', 'ES_0.2']].tail()  # Displaying 15 rows to see some of the moving averages starting to form"
   ]
  },
  {
   "cell_type": "code",
   "execution_count": null,
   "metadata": {},
   "outputs": [],
   "source": [
    "# Visualize the moving average forecast\n",
    "x = df[\"SMA_6\"].dropna()\n",
    "y = df[\"ES_0.2\"]\n",
    "\n",
    "# Blue line for x\n",
    "# Orange line for y\n",
    "fig, ax = plt.subplots(nrows=1,ncols=1,figsize=(9,3.75))\n",
    "df.plot(y='Ridership', ax=ax,color='C0', linewidth=1)\n",
    "x.plot(y='SMA_6',ax=ax,color='C1',linewidth=1, linestyle='dotted')\n",
    "y.plot(y='ES_0.2',ax=ax,color='C2',linewidth=1, linestyle='dashed')\n",
    "plt.show()"
   ]
  },
  {
   "cell_type": "code",
   "execution_count": null,
   "metadata": {},
   "outputs": [],
   "source": []
  }
 ],
 "metadata": {
  "colab": {
   "authorship_tag": "ABX9TyPGt8RheY+toKi0husxWzv9",
   "provenance": []
  },
  "kernelspec": {
   "display_name": "Python 3 (ipykernel)",
   "language": "python",
   "name": "python3"
  },
  "language_info": {
   "codemirror_mode": {
    "name": "ipython",
    "version": 3
   },
   "file_extension": ".py",
   "mimetype": "text/x-python",
   "name": "python",
   "nbconvert_exporter": "python",
   "pygments_lexer": "ipython3",
   "version": "3.11.7"
  }
 },
 "nbformat": 4,
 "nbformat_minor": 4
}
