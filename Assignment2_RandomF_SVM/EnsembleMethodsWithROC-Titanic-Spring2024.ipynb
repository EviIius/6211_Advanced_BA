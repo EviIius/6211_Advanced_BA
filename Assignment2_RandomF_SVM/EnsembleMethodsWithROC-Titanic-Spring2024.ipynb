{
 "cells": [
  {
   "cell_type": "code",
   "execution_count": 1,
   "id": "bc2d91f2",
   "metadata": {},
   "outputs": [],
   "source": [
    "# Decision Tree, Random Forest, Bagging and Boosting"
   ]
  },
  {
   "cell_type": "code",
   "execution_count": 2,
   "id": "b8ed4fad",
   "metadata": {},
   "outputs": [],
   "source": [
    "# import common libraries\n",
    "import pandas as pd\n",
    "import numpy as np\n",
    "from sklearn.model_selection import train_test_split\n",
    "from sklearn import metrics"
   ]
  },
  {
   "cell_type": "code",
   "execution_count": 3,
   "id": "dc6211ae",
   "metadata": {},
   "outputs": [],
   "source": [
    "# Load and prepare dataset\n",
    "titan = pd.read_csv(\"titanic.csv\")\n",
    "titan = titan.dropna()\n",
    "\n",
    "titan = titan.drop([\"Name\"], axis = 1)\n",
    "\n",
    "# preparing the dependent and independent variables\n",
    "# Dummy coding using pd.get_dummies() and checking dtypes of coded variables\n",
    "\n",
    "titan = pd.get_dummies(titan, drop_first = True, dtype = int)\n",
    "\n",
    "# make y (dependent variable) as np.array\n",
    "y = np.array(titan[\"Survival_Survived\"])\n",
    "\n",
    "# make x a dataframe subset with independent variables\n",
    "X = titan[[\"Age\", \"Gender_Male\", \"Class_2nd\", \"Class_3rd\", \"Fare\"]]\n",
    "\n",
    "# Split dataset into training and testing data\n",
    "X_train, X_test, y_train, y_test = train_test_split(X, y, test_size=0.3, random_state=42)\n"
   ]
  },
  {
   "cell_type": "code",
   "execution_count": 4,
   "id": "973e99ce",
   "metadata": {},
   "outputs": [],
   "source": [
    "# Decision tree with gini index\n",
    "from sklearn.tree import DecisionTreeClassifier\n",
    "\n",
    "# Create a Decision Tree Classifier using Gini index\n",
    "clf_gini = DecisionTreeClassifier(criterion='gini', random_state=42)\n",
    "\n",
    "# Train the model\n",
    "clf_gini.fit(X_train, y_train)\n",
    "\n",
    "# Predict the responses for test dataset\n",
    "y_pred_dt = clf_gini.predict(X_test)\n",
    "\n",
    "# Calculate accuracy\n",
    "accuracy = metrics.accuracy_score(y_test, y_pred_dt)\n",
    "\n",
    "# Calculate confusion matrix\n",
    "conf_matrix = metrics.confusion_matrix(y_test, y_pred_dt)\n",
    "\n",
    "# Print accuracy, and confusion matrix\n",
    "print(\"\\nAccuracy:\", accuracy)\n",
    "print(\"\\nConfusion Matrix:\\n\", conf_matrix)"
   ]
  },
  {
   "cell_type": "code",
   "execution_count": 7,
   "id": "ff579f34",
   "metadata": {
    "scrolled": true
   },
   "outputs": [
    {
     "name": "stdout",
     "output_type": "stream",
     "text": [
      "ROC Area Under Curve: 0.7226515930113052\n"
     ]
    },
    {
     "data": {
      "image/png": "[encoded data removed]",
      "text/plain": [
       "<Figure size 432x288 with 1 Axes>"
      ]
     },
     "metadata": {
      "needs_background": "light"
     },
     "output_type": "display_data"
    }
   ],
   "source": [
    "# Decision Tree ROC \n",
    "# roc and auc -- decision tree \n",
    "from sklearn.metrics import roc_curve\n",
    "from sklearn.metrics import roc_auc_score\n",
    "from matplotlib import pyplot as plt\n",
    "\n",
    "predic_prob =clf_gini.predict_proba(X_test) # Probability estimates [0,1]\n",
    "rf_auc = roc_auc_score(y_test, predic_prob[:,1])\n",
    "print(\"ROC Area Under Curve:\", rf_auc)\n",
    "\n",
    "# visualization of roc \n",
    "rf_fpr, rf_tpr, threshold =roc_curve(y_test, predic_prob[:,1])\n",
    "\n",
    "plt.plot(rf_fpr,rf_tpr,marker='.')\n",
    "\n",
    "plt.xlabel('False Positive Rate')\n",
    "plt.ylabel('True Positive Rate')\n",
    "\n",
    "plt.show()"
   ]
  },
  {
   "cell_type": "code",
   "execution_count": 10,
   "id": "f5b8f108",
   "metadata": {},
   "outputs": [
    {
     "name": "stdout",
     "output_type": "stream",
     "text": [
      "\n",
      "Accuracy: 0.7802547770700637\n",
      "\n",
      "Confusion Matrix:\n",
      " [[149  26]\n",
      " [ 43  96]]\n"
     ]
    }
   ],
   "source": [
    "# Random Forest Classifier\n",
    "from sklearn.ensemble import RandomForestClassifier\n",
    "\n",
    "# Create a Random Forest Classifier\n",
    "clf_rf = RandomForestClassifier(n_estimators=1000, random_state=42)\n",
    "\n",
    "# Train the model\n",
    "clf_rf.fit(X_train, y_train)\n",
    "\n",
    "# Model predictions\n",
    "y_pred_rf = clf_rf.predict(X_test)\n",
    "\n",
    "# Calculate accuracy of Random Forest\n",
    "accuracy = metrics.accuracy_score(y_test, y_pred_rf)\n",
    "\n",
    "# Calculate confusion matrix\n",
    "conf_matrix = metrics.confusion_matrix(y_test, y_pred_rf)\n",
    "\n",
    "# Print accuracy, and confusion matrix\n",
    "print(\"\\nAccuracy:\", accuracy)\n",
    "print(\"\\nConfusion Matrix:\\n\", conf_matrix)"
   ]
  },
  {
   "cell_type": "code",
   "execution_count": 9,
   "id": "0b184f5a",
   "metadata": {},
   "outputs": [
    {
     "name": "stdout",
     "output_type": "stream",
     "text": [
      "ROC Area Under Curve: 0.8052004110996916\n"
     ]
    },
    {
     "data": {
      "image/png": "[encoded data removed]",
      "text/plain": [
       "<Figure size 432x288 with 1 Axes>"
      ]
     },
     "metadata": {
      "needs_background": "light"
     },
     "output_type": "display_data"
    }
   ],
   "source": [
    "# RF ROC \n",
    "# roc and auc -- decision tree \n",
    "from sklearn.metrics import roc_curve\n",
    "from sklearn.metrics import roc_auc_score\n",
    "from matplotlib import pyplot as plt\n",
    "\n",
    "predic_prob =clf_rf.predict_proba(X_test) # Probability estimates [0,1]\n",
    "rf_auc = roc_auc_score(y_test, predic_prob[:,1])\n",
    "print(\"ROC Area Under Curve:\", rf_auc)\n",
    "\n",
    "# visualization of roc \n",
    "rf_fpr, rf_tpr, threshold =roc_curve(y_test, predic_prob[:,1])\n",
    "\n",
    "plt.plot(rf_fpr,rf_tpr,marker='.')\n",
    "\n",
    "plt.xlabel('False Positive Rate')\n",
    "plt.ylabel('True Positive Rate')\n",
    "\n",
    "plt.show()"
   ]
  },
  {
   "cell_type": "code",
   "execution_count": null,
   "id": "323f4dd0",
   "metadata": {},
   "outputs": [],
   "source": []
  }
 ],
 "metadata": {
  "kernelspec": {
   "display_name": "Python 3 (ipykernel)",
   "language": "python",
   "name": "python3"
  },
  "language_info": {
   "codemirror_mode": {
    "name": "ipython",
    "version": 3
   },
   "file_extension": ".py",
   "mimetype": "text/x-python",
   "name": "python",
   "nbconvert_exporter": "python",
   "pygments_lexer": "ipython3",
   "version": "3.9.13"
  }
 },
 "nbformat": 4,
 "nbformat_minor": 5
}
