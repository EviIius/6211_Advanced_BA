{
 "cells": [
  {
   "cell_type": "code",
   "execution_count": 4,
   "id": "bc2d91f2",
   "metadata": {},
   "outputs": [],
   "source": [
    "# SVM with Titanic dataset"
   ]
  },
  {
   "cell_type": "code",
   "execution_count": 5,
   "id": "b8ed4fad",
   "metadata": {},
   "outputs": [],
   "source": [
    "# import common libraries\n",
    "import pandas as pd\n",
    "import numpy as np\n",
    "from sklearn.datasets import make_classification\n",
    "from sklearn.model_selection import train_test_split\n",
    "from sklearn import metrics\n"
   ]
  },
  {
   "cell_type": "code",
   "execution_count": 6,
   "id": "dc6211ae",
   "metadata": {},
   "outputs": [],
   "source": [
    "# SVM with Titanic dataset\n",
    "# import SVC from sklearn\n",
    "from sklearn.svm import SVC\n",
    "\n",
    "# Load dataset\n",
    "titan = pd.read_csv(\"titanic.csv\")\n",
    "titan = titan.dropna()\n",
    "\n",
    "titan = titan.drop([\"Name\"], axis = 1)\n",
    "\n",
    "# preparing the dependent and independent variables\n",
    "# Dummy coding using pd.get_dummies() and checking dtypes of coded variables\n",
    "\n",
    "titan = pd.get_dummies(titan, drop_first = True, dtype = int)\n",
    "\n",
    "# make y (dependent variable) as np.array\n",
    "y = np.array(titan[\"Survival_Survived\"])\n",
    "\n",
    "# make x a dataframe subset with independent variables\n",
    "X = titan[[\"Age\", \"Gender_Male\", \"Class_2nd\", \"Class_3rd\", \"Fare\"]]\n",
    "\n",
    "# Split dataset into training and testing data\n",
    "X_train, X_test, y_train, y_test = train_test_split(X, y, test_size=0.3, random_state=42)\n",
    "\n",
    "\n",
    "# Initialize SVM classifier with a linear kernel\n",
    "svm_classifier = SVC(kernel='linear', random_state=42)\n",
    "\n",
    "# Train the model on the training set\n",
    "svm_classifier.fit(X_train, y_train)\n",
    "\n",
    "# Predict the responses for the test set\n",
    "y_pred_svm = svm_classifier.predict(X_test)\n"
   ]
  },
  {
   "cell_type": "code",
   "execution_count": 7,
   "id": "862a6662",
   "metadata": {
    "scrolled": true
   },
   "outputs": [
    {
     "name": "stdout",
     "output_type": "stream",
     "text": [
      "\n",
      "Accuracy: 0.732484076433121\n",
      "\n",
      "Confusion Matrix:\n",
      " [[141  34]\n",
      " [ 50  89]]\n"
     ]
    }
   ],
   "source": [
    "# Calculate accuracy\n",
    "accuracy = metrics.accuracy_score(y_test, y_pred_svm)\n",
    "\n",
    "# Calculate confusion matrix\n",
    "conf_matrix = metrics.confusion_matrix(y_test, y_pred_svm)\n",
    "\n",
    "print(\"\\nAccuracy:\", accuracy)\n",
    "print(\"\\nConfusion Matrix:\\n\", conf_matrix)"
   ]
  },
  {
   "cell_type": "code",
   "execution_count": null,
   "id": "ff579f34",
   "metadata": {},
   "outputs": [],
   "source": []
  }
 ],
 "metadata": {
  "kernelspec": {
   "display_name": "Python 3 (ipykernel)",
   "language": "python",
   "name": "python3"
  },
  "language_info": {
   "codemirror_mode": {
    "name": "ipython",
    "version": 3
   },
   "file_extension": ".py",
   "mimetype": "text/x-python",
   "name": "python",
   "nbconvert_exporter": "python",
   "pygments_lexer": "ipython3",
   "version": "3.9.7"
  }
 },
 "nbformat": 4,
 "nbformat_minor": 5
}
