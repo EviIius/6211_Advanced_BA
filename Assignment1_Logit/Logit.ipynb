{
 "cells": [
  {
   "cell_type": "markdown",
   "metadata": {},
   "source": [
    "# **Assignment 1 - Logistic Regression**\n",
    "## Author: Jake Brulato\n",
    "## Tuesday 5:30 - 8:15, Kornelia"
   ]
  },
  {
   "cell_type": "markdown",
   "metadata": {},
   "source": [
    "**Problem description and questions: A supermarket offers a new line of organic products. The\n",
    "supermarket’s management wants to determine which customers are likely to purchase these\n",
    "products. The supermarket has a customer loyalty program. As an initial buyer incentive plan,\n",
    "the supermarket provided coupons for the organic products to all of the loyalty program\n",
    "participants and collected data that includes whether these customers purchased any of the\n",
    "organic products. Based on the data collected, the supermarket wants to understand the\n",
    "behavior of their customers and their likelihood of purchase of organic products. The\n",
    "ORGANICS data set contains 8 variables as shown in the table below and more than 22,000\n",
    "observations**"
   ]
  },
  {
   "cell_type": "code",
   "execution_count": null,
   "metadata": {},
   "outputs": [],
   "source": [
    "import pandas as pd"
   ]
  },
  {
   "cell_type": "code",
   "execution_count": 1,
   "metadata": {},
   "outputs": [
    {
     "ename": "NameError",
     "evalue": "name 'pd' is not defined",
     "output_type": "error",
     "traceback": [
      "\u001b[0;31m---------------------------------------------------------------------------\u001b[0m",
      "\u001b[0;31mNameError\u001b[0m                                 Traceback (most recent call last)",
      "Cell \u001b[0;32mIn[1], line 1\u001b[0m\n\u001b[0;32m----> 1\u001b[0m df \u001b[38;5;241m=\u001b[39m \u001b[43mpd\u001b[49m\u001b[38;5;241m.\u001b[39mread_csv(\u001b[38;5;124m'\u001b[39m\u001b[38;5;124mOrganics.csv\u001b[39m\u001b[38;5;124m'\u001b[39m, sep\u001b[38;5;241m=\u001b[39m\u001b[38;5;124m'\u001b[39m\u001b[38;5;124m,\u001b[39m\u001b[38;5;124m'\u001b[39m)\n",
      "\u001b[0;31mNameError\u001b[0m: name 'pd' is not defined"
     ]
    }
   ],
   "source": [
    "df = pd.read_csv('Organics.csv', sep=',')"
   ]
  },
  {
   "cell_type": "markdown",
   "metadata": {},
   "source": [
    "**1. What variable would you consider as the target variable? Explain your reason. (2 pts)**"
   ]
  },
  {
   "cell_type": "markdown",
   "metadata": {},
   "source": [
    "**2. Select any 5 variables to consider as independent variables in the model. Explain the\n",
    "reasons for your selection. (5 pts)**"
   ]
  },
  {
   "cell_type": "markdown",
   "metadata": {},
   "source": [
    "**3. Are there any variables which cannot be used in your model? Why? (3 pts)**"
   ]
  },
  {
   "cell_type": "markdown",
   "metadata": {},
   "source": [
    "**4. What variables need to be dummy coded before you run your logistic regression model?\n",
    "Explain what new dummy coded columns you created. (6 pts)**"
   ]
  },
  {
   "cell_type": "markdown",
   "metadata": {},
   "source": [
    "**5. Do you have to consider missing values in your dataset? How did you handle the presence\n",
    "of missing values, if any? (4 pts)**"
   ]
  },
  {
   "cell_type": "markdown",
   "metadata": {},
   "source": [
    "**6. Provide following screenshots from your logistic regression model. (5 pts)**\n",
    "- a. The model result summary, along with the coefficient table\n",
    "- b. The classification (confusion) matrix output\n"
   ]
  },
  {
   "cell_type": "markdown",
   "metadata": {},
   "source": [
    "**7. Is the overall model statistically significant? Explain how you arrived at your conclusion. (4\n",
    "pts)**"
   ]
  },
  {
   "cell_type": "markdown",
   "metadata": {},
   "source": [
    "**8. Interpret the impacts of each independent variable on the target variable. (10 pts)**"
   ]
  },
  {
   "cell_type": "markdown",
   "metadata": {},
   "source": [
    "**9. From the confusion matrix, compute the accuracy, precision, recall and F1 score for this\n",
    "model. (6 pts)**"
   ]
  },
  {
   "cell_type": "markdown",
   "metadata": {},
   "source": [
    "**10. Summarize your findings to the Director of Marketing for this company. Based on your\n",
    "summary, provide two recommendations that could address the company’s problem\n",
    "described earlier. (Limit this answer to a paragraph of not more than 200 words) (5 pts)**"
   ]
  },
  {
   "cell_type": "code",
   "execution_count": null,
   "metadata": {},
   "outputs": [],
   "source": []
  }
 ],
 "metadata": {
  "kernelspec": {
   "display_name": ".venv",
   "language": "python",
   "name": "python3"
  },
  "language_info": {
   "codemirror_mode": {
    "name": "ipython",
    "version": 3
   },
   "file_extension": ".py",
   "mimetype": "text/x-python",
   "name": "python",
   "nbconvert_exporter": "python",
   "pygments_lexer": "ipython3",
   "version": "3.10.11"
  }
 },
 "nbformat": 4,
 "nbformat_minor": 2
}
