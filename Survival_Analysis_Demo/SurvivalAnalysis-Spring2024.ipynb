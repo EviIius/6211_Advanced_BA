{
 "cells": [
  {
   "cell_type": "code",
   "execution_count": null,
   "metadata": {
    "executionInfo": {
     "elapsed": 466,
     "status": "ok",
     "timestamp": 1669766372395,
     "user": {
      "displayName": "Kexin Zhao",
      "userId": "01286723031482617084"
     },
     "user_tz": 300
    },
    "id": "0LdqogbS078o"
   },
   "outputs": [],
   "source": [
    "# Survival Analysis - heart_attack.csv dataset"
   ]
  },
  {
   "cell_type": "code",
   "execution_count": null,
   "metadata": {},
   "outputs": [],
   "source": [
    "# import common libraries\n",
    "import pandas as pd\n",
    "import matplotlib.pyplot as plt\n"
   ]
  },
  {
   "cell_type": "code",
   "execution_count": null,
   "metadata": {},
   "outputs": [],
   "source": [
    "# install lifelines package\n",
    "# installation needed only once\n",
    "# after successful installation, comment out the below statement\n",
    "# ! pip install lifelines"
   ]
  },
  {
   "cell_type": "code",
   "execution_count": null,
   "metadata": {},
   "outputs": [],
   "source": [
    "# read the dataset into df\n",
    "df = pd.read_csv('heart_attack.csv')"
   ]
  },
  {
   "cell_type": "code",
   "execution_count": null,
   "metadata": {
    "id": "KlYQnus31OhV"
   },
   "outputs": [],
   "source": [
    "df"
   ]
  },
  {
   "cell_type": "code",
   "execution_count": null,
   "metadata": {
    "colab": {
     "base_uri": "https://localhost:8080/"
    },
    "executionInfo": {
     "elapsed": 88,
     "status": "ok",
     "timestamp": 1669766537464,
     "user": {
      "displayName": "Kexin Zhao",
      "userId": "01286723031482617084"
     },
     "user_tz": 300
    },
    "id": "Xo1QfozS1a4E",
    "outputId": "d5f546ff-03f1-4a57-c12d-11980bbacd34"
   },
   "outputs": [],
   "source": [
    "df.info()"
   ]
  },
  {
   "cell_type": "code",
   "execution_count": null,
   "metadata": {
    "executionInfo": {
     "elapsed": 98,
     "status": "ok",
     "timestamp": 1669766534107,
     "user": {
      "displayName": "Kexin Zhao",
      "userId": "01286723031482617084"
     },
     "user_tz": 300
    },
    "id": "B9MCRd6m1sp8"
   },
   "outputs": [],
   "source": [
    "# convert the fstat column from numeric to boolean\n",
    "df['fstat']=df['fstat']==1\n",
    "df"
   ]
  },
  {
   "cell_type": "code",
   "execution_count": null,
   "metadata": {
    "colab": {
     "base_uri": "https://localhost:8080/",
     "height": 296
    },
    "executionInfo": {
     "elapsed": 357,
     "status": "ok",
     "timestamp": 1669766775212,
     "user": {
      "displayName": "Kexin Zhao",
      "userId": "01286723031482617084"
     },
     "user_tz": 300
    },
    "id": "8R1H6oTS2JI1",
    "outputId": "f0bdcb09-954f-495a-cd9c-6a9a8360b1ea"
   },
   "outputs": [],
   "source": [
    "from lifelines import KaplanMeierFitter\n",
    "kmf = KaplanMeierFitter()\n",
    "kmf.fit(durations=df['lenfol'],\n",
    "        event_observed = df['fstat'])\n",
    "kmf.plot_survival_function()"
   ]
  },
  {
   "cell_type": "code",
   "execution_count": null,
   "metadata": {
    "colab": {
     "base_uri": "https://localhost:8080/",
     "height": 312
    },
    "executionInfo": {
     "elapsed": 437,
     "status": "ok",
     "timestamp": 1669767152597,
     "user": {
      "displayName": "Kexin Zhao",
      "userId": "01286723031482617084"
     },
     "user_tz": 300
    },
    "id": "4CKfxIxk3OHu",
    "outputId": "0b8aaa02-7dbb-49c8-b8d1-fb9e21ace66c"
   },
   "outputs": [],
   "source": [
    "ax = plt.subplot(111)\n",
    "m = (df['gender']==0)\n",
    "kmf.fit(durations=df['lenfol'][m],\n",
    "        event_observed=df['fstat'][m],label='Male')\n",
    "kmf.plot_survival_function()\n",
    "kmf.fit(durations=df['lenfol'][~m],\n",
    "        event_observed=df['fstat'][~m],label='Female')\n",
    "kmf.plot_survival_function()\n",
    "plt.title('Survival of different gender group')"
   ]
  },
  {
   "cell_type": "code",
   "execution_count": null,
   "metadata": {
    "colab": {
     "base_uri": "https://localhost:8080/",
     "height": 312
    },
    "executionInfo": {
     "elapsed": 371,
     "status": "ok",
     "timestamp": 1669767284694,
     "user": {
      "displayName": "Kexin Zhao",
      "userId": "01286723031482617084"
     },
     "user_tz": 300
    },
    "id": "UQunaEpV4bPH",
    "outputId": "63300a5a-23a6-4850-8214-8a861ec00b79"
   },
   "outputs": [],
   "source": [
    "ax = plt.subplot(111)\n",
    "m = (df['cvd']==1)\n",
    "kmf.fit(durations=df['lenfol'][m],\n",
    "        event_observed=df['fstat'][m],label='CVD')\n",
    "kmf.plot_survival_function()\n",
    "kmf.fit(durations=df['lenfol'][~m],\n",
    "        event_observed=df['fstat'][~m],label='No CVD')\n",
    "kmf.plot_survival_function()\n",
    "plt.title('Survival of different CVD group')"
   ]
  },
  {
   "cell_type": "code",
   "execution_count": null,
   "metadata": {
    "id": "kkFtvbgj4bMH"
   },
   "outputs": [],
   "source": [
    "df_cox = df[['lenfol','fstat','age','gender','hr',\n",
    "             'sysbp','diasbp','bmi','cvd','afb',\n",
    "             'sho','chf','av3','miord','mitype','los']]\n",
    "df_cox"
   ]
  },
  {
   "cell_type": "code",
   "execution_count": null,
   "metadata": {
    "colab": {
     "base_uri": "https://localhost:8080/",
     "height": 899
    },
    "executionInfo": {
     "elapsed": 796,
     "status": "ok",
     "timestamp": 1669767689365,
     "user": {
      "displayName": "Kexin Zhao",
      "userId": "01286723031482617084"
     },
     "user_tz": 300
    },
    "id": "GETVtz2_5wU5",
    "outputId": "932663f6-c9c7-4490-e29f-95c7a3c6fbfd"
   },
   "outputs": [],
   "source": [
    "from lifelines import CoxPHFitter\n",
    "cph = CoxPHFitter()\n",
    "cph.fit(df_cox, duration_col='lenfol',event_col='fstat')\n",
    "cph.print_summary()"
   ]
  },
  {
   "cell_type": "code",
   "execution_count": null,
   "metadata": {},
   "outputs": [],
   "source": [
    "# Check the proportional hazard assumption\n",
    "cph.check_assumptions(df_cox, p_value_threshold=0.05)"
   ]
  },
  {
   "cell_type": "code",
   "execution_count": null,
   "metadata": {
    "colab": {
     "base_uri": "https://localhost:8080/",
     "height": 492
    },
    "executionInfo": {
     "elapsed": 251,
     "status": "ok",
     "timestamp": 1669768069095,
     "user": {
      "displayName": "Kexin Zhao",
      "userId": "01286723031482617084"
     },
     "user_tz": 300
    },
    "id": "Pz1HNFTR7Zrh",
    "outputId": "538959a1-a9c0-45e7-8ab0-73549dbf0505"
   },
   "outputs": [],
   "source": [
    "df_cox1 = df[['lenfol','fstat','gender']]\n",
    "cph.fit(df_cox1,duration_col='lenfol',event_col='fstat')\n",
    "cph.print_summary()"
   ]
  },
  {
   "cell_type": "code",
   "execution_count": null,
   "metadata": {},
   "outputs": [],
   "source": [
    "# Plot\n",
    "plt.figure(figsize=(10, 6))\n",
    "hr.plot(kind='barh')\n",
    "plt.xlabel('Hazard Ratio')\n",
    "plt.title('Hazard Ratios')\n",
    "plt.show()"
   ]
  },
  {
   "cell_type": "code",
   "execution_count": null,
   "metadata": {},
   "outputs": [],
   "source": []
  }
 ],
 "metadata": {
  "colab": {
   "authorship_tag": "ABX9TyMfT1UVfe+LIItSeXO9LwEx",
   "provenance": []
  },
  "kernelspec": {
   "display_name": "Python 3 (ipykernel)",
   "language": "python",
   "name": "python3"
  },
  "language_info": {
   "codemirror_mode": {
    "name": "ipython",
    "version": 3
   },
   "file_extension": ".py",
   "mimetype": "text/x-python",
   "name": "python",
   "nbconvert_exporter": "python",
   "pygments_lexer": "ipython3",
   "version": "3.11.7"
  }
 },
 "nbformat": 4,
 "nbformat_minor": 4
}
