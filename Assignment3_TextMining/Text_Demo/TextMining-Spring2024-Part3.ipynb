{
 "cells": [
  {
   "cell_type": "code",
   "execution_count": null,
   "id": "fe4a8e05",
   "metadata": {},
   "outputs": [],
   "source": [
    "# Text Mining - Federalist Papers\n",
    "# Part 3\n",
    "# We will combine all text pre-processing into a single cell and proceed from there\n",
    "# Topic modeling"
   ]
  },
  {
   "cell_type": "code",
   "execution_count": null,
   "id": "c20fac29",
   "metadata": {},
   "outputs": [],
   "source": [
    "# import key libraries\n",
    "import pandas as pd\n",
    "import numpy as np\n",
    "import matplotlib.pyplot as plt"
   ]
  },
  {
   "cell_type": "code",
   "execution_count": null,
   "id": "4256697f-9d85-4f81-a278-b6539986a8a1",
   "metadata": {},
   "outputs": [],
   "source": [
    "# the dataset is in Documents folder, so changing default folder to Documents before reading\n",
    "# import os and change directory to Documents\n",
    "import os\n",
    "# os.chdir(\"Documents\")\n",
    "\n",
    "# read federalist.csv\n",
    "papers = pd.read_csv(\"federalist.csv\")\n",
    "papers"
   ]
  },
  {
   "cell_type": "code",
   "execution_count": null,
   "id": "13badadc",
   "metadata": {},
   "outputs": [],
   "source": [
    "# combining all pre-processing into a single cell\n",
    "# filter to papers written by Hamilton, Madison, and Unknown\n",
    "papers = papers[papers[\"Author\"].isin([\"HAMILTON\", \"MADISON\",\"UNKNOWN\"])]\n",
    "\n",
    "# remove the common first sentence from all documents\n",
    "papers[\"Text\"] = papers[\"Text\"].str.replace(\"To the People of the State of New York:\", \"\")\n",
    "\n",
    "# Remove punctuation from the text column\n",
    "papers[\"Text\"] = papers[\"Text\"].str.replace('[^\\w\\s]', '', regex=True)\n",
    "\n",
    "# convert all words to lowercase\n",
    "papers[\"Text\"] = papers[\"Text\"].str.lower()\n",
    "\n",
    "# removal of stop_words\n",
    "import nltk\n",
    "from nltk.corpus import stopwords\n",
    "nltk.download(\"stopwords\")\n",
    "\n",
    "stop = stopwords.words(\"english\")\n",
    "\n",
    "papers[\"Text\"] = papers[\"Text\"].apply(lambda x: \" \".join(x for x in x.split()\n",
    "                                                         if x not in stop))\n",
    "# stemming\n",
    "from nltk.stem import PorterStemmer\n",
    "st = PorterStemmer()\n",
    "papers[\"Text\"] = papers[\"Text\"].apply(lambda x: \" \".join([st.stem(word)\n",
    "                                                         for word in x.split()]))\n",
    "\n",
    "# further remove custom stopwords, which are problem specific\n",
    "stop += [\"would\", \"may\", \"must\", \"one\", \"upon\", \"might\", \"shall\", \"could\"]\n",
    "papers[\"Text\"] = papers[\"Text\"].apply(lambda x: \" \".join(x for x in x.split()\n",
    "                                                         if x not in stop))\n",
    "\n",
    "papers[\"Text\"]"
   ]
  },
  {
   "cell_type": "code",
   "execution_count": null,
   "id": "aee26f04-3591-4483-a799-cf63763524e9",
   "metadata": {},
   "outputs": [],
   "source": [
    "# Tokenize the documents in the Text column\n",
    "corpus = [doc.split() for doc in papers[\"Text\"]]\n",
    "\n",
    "# create DFM\n",
    "import gensim\n",
    "from gensim import corpora, models\n",
    "\n",
    "# Create the term dictionary of the corpus\n",
    "dictionary = corpora.Dictionary(corpus)\n",
    "\n",
    "dictionary.filter_extremes(no_below = 2, no_above = 0.75)\n",
    "\n",
    "# Convert the corpus into Document Term Matrix\n",
    "DFM = [dictionary.doc2bow(doc) for doc in corpus]\n"
   ]
  },
  {
   "cell_type": "code",
   "execution_count": null,
   "id": "bfc1551d",
   "metadata": {
    "scrolled": true
   },
   "outputs": [],
   "source": [
    "# Create LDA model using gensim library\n",
    "# https://radimrehurek.com/gensim/models/ldamodel.html\n",
    "n_topics = 8\n",
    "ldamodel = models.LdaModel(DFM, num_topics=n_topics, id2word=dictionary, passes=40)\n",
    "\n",
    "print(ldamodel.print_topics(num_topics=n_topics, num_words=10))\n"
   ]
  },
  {
   "cell_type": "code",
   "execution_count": null,
   "id": "abeb5521-d0a9-47f3-a58e-b15802e96e06",
   "metadata": {},
   "outputs": [],
   "source": [
    "# ! pip install pyLDAvis"
   ]
  },
  {
   "cell_type": "code",
   "execution_count": null,
   "id": "77cb3cee-1e79-46c5-87b1-e6a523d405f1",
   "metadata": {},
   "outputs": [],
   "source": [
    "# Interactive topic modeling visualization\n",
    "# https://pyldavis.readthedocs.io/en/latest/readme.html\n",
    "# ! pip install pyLDAvis\n",
    "import pyLDAvis\n",
    "pyLDAvis.enable_notebook()\n",
    "\n",
    "import pyLDAvis.gensim_models\n",
    "vis = pyLDAvis.gensim_models.prepare(ldamodel, DFM, dictionary)\n",
    "vis\n"
   ]
  },
  {
   "cell_type": "code",
   "execution_count": null,
   "id": "93fc35fb-713f-496d-89a8-d25f25b5cc1e",
   "metadata": {},
   "outputs": [],
   "source": []
  }
 ],
 "metadata": {
  "kernelspec": {
   "display_name": "Python 3 (ipykernel)",
   "language": "python",
   "name": "python3"
  },
  "language_info": {
   "codemirror_mode": {
    "name": "ipython",
    "version": 3
   },
   "file_extension": ".py",
   "mimetype": "text/x-python",
   "name": "python",
   "nbconvert_exporter": "python",
   "pygments_lexer": "ipython3",
   "version": "3.11.7"
  }
 },
 "nbformat": 4,
 "nbformat_minor": 5
}
