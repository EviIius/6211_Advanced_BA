{
 "cells": [
  {
   "cell_type": "code",
   "execution_count": null,
   "id": "fe4a8e05",
   "metadata": {},
   "outputs": [],
   "source": [
    "# Text Mining - Federalist Papers\n",
    "# Part 1"
   ]
  },
  {
   "cell_type": "code",
   "execution_count": null,
   "id": "c20fac29",
   "metadata": {},
   "outputs": [],
   "source": [
    "# import key libraries\n",
    "import pandas as pd\n",
    "import numpy as np\n",
    "import matplotlib.pyplot as plt"
   ]
  },
  {
   "cell_type": "code",
   "execution_count": null,
   "id": "73617d70",
   "metadata": {},
   "outputs": [],
   "source": [
    "# import os and change directory to Documents\n",
    "import os\n",
    "os.chdir(\"Documents\")\n",
    "os.getcwd()"
   ]
  },
  {
   "cell_type": "code",
   "execution_count": null,
   "id": "2a74df72",
   "metadata": {},
   "outputs": [],
   "source": [
    "# read federalist.csv\n",
    "papers = pd.read_csv(\"federalist.csv\")\n",
    "papers"
   ]
  },
  {
   "cell_type": "code",
   "execution_count": null,
   "id": "13badadc",
   "metadata": {},
   "outputs": [],
   "source": [
    "papers[\"Author\"].value_counts()"
   ]
  },
  {
   "cell_type": "code",
   "execution_count": null,
   "id": "372a1e84",
   "metadata": {},
   "outputs": [],
   "source": [
    "# filter to papers written by Hamilton, Madison, and Unknown\n",
    "papers = papers[papers[\"Author\"].isin([\"HAMILTON\", \"MADISON\",\"UNKNOWN\"])]\n",
    "papers[\"Author\"].value_counts()"
   ]
  },
  {
   "cell_type": "code",
   "execution_count": null,
   "id": "ee24f70d",
   "metadata": {},
   "outputs": [],
   "source": [
    "# remove the common first sentence from all documents\n",
    "papers[\"Text\"] = papers[\"Text\"].str.replace(\"To the People of the State of New York:\", \"\")\n",
    "papers"
   ]
  },
  {
   "cell_type": "code",
   "execution_count": null,
   "id": "a547cdbb",
   "metadata": {},
   "outputs": [],
   "source": [
    "# Create a function dim() to output number of terms/features in a DFM/DTM\n",
    "# set() is an unordered collection of unique items\n",
    "def dim():\n",
    "    dimensions = len(set(papers[\"Text\"].str.split().explode().values))\n",
    "    print(f'{dimensions} dimensions in the DFM.')\n",
    "    \n",
    "dim()"
   ]
  },
  {
   "cell_type": "code",
   "execution_count": null,
   "id": "e278645d",
   "metadata": {
    "scrolled": true
   },
   "outputs": [],
   "source": [
    "# simple frequency analysis - Top 20 words\n",
    "freq = pd.Series(' '.join(papers[\"Text\"]).split()).value_counts()[:30]\n",
    "freq"
   ]
  },
  {
   "cell_type": "code",
   "execution_count": null,
   "id": "d496dfe4",
   "metadata": {},
   "outputs": [],
   "source": [
    "# removing punctuations\n",
    "papers[\"Text\"] = papers[\"Text\"].str.replace(r'[^\\w\\s]+', '')\n",
    "dim()"
   ]
  },
  {
   "cell_type": "code",
   "execution_count": null,
   "id": "d973ea47",
   "metadata": {},
   "outputs": [],
   "source": [
    "# convert all words to lowercase\n",
    "papers[\"Text\"] = papers[\"Text\"].str.lower()\n",
    "papers[\"Text\"].head()"
   ]
  },
  {
   "cell_type": "code",
   "execution_count": null,
   "id": "547dda9f",
   "metadata": {},
   "outputs": [],
   "source": [
    "# simple frequency analysis after conversion - Top 30 words\n",
    "freq = pd.Series(' '.join(papers[\"Text\"]).split()).value_counts()[:30]\n",
    "freq"
   ]
  },
  {
   "cell_type": "code",
   "execution_count": null,
   "id": "ce6a014d",
   "metadata": {},
   "outputs": [],
   "source": [
    "dim()"
   ]
  },
  {
   "cell_type": "code",
   "execution_count": null,
   "id": "5020f7f6",
   "metadata": {
    "scrolled": false
   },
   "outputs": [],
   "source": [
    "# removal of stop_words\n",
    "import nltk\n",
    "from nltk.corpus import stopwords\n",
    "nltk.download(\"stopwords\")\n",
    "\n",
    "stop = stopwords.words(\"english\")\n",
    "\n",
    "papers[\"Text\"] = papers[\"Text\"].apply(lambda x: \" \".join(x for x in x.split()\n",
    "                                                         if x not in stop))\n",
    "\n",
    "# frequency analysis after removing default stopwords\n",
    "freq = pd.Series(\" \".join(papers[\"Text\"]).split()).value_counts()[:30]\n",
    "freq"
   ]
  },
  {
   "cell_type": "code",
   "execution_count": null,
   "id": "b2f8125b",
   "metadata": {},
   "outputs": [],
   "source": [
    "dim()"
   ]
  },
  {
   "cell_type": "code",
   "execution_count": null,
   "id": "0e7e3020",
   "metadata": {},
   "outputs": [],
   "source": [
    "# stemming\n",
    "from nltk.stem import PorterStemmer\n",
    "st = PorterStemmer()\n",
    "papers[\"Text\"] = papers[\"Text\"].apply(lambda x: \" \".join([st.stem(word)\n",
    "                                                         for word in x.split()]))\n",
    "dim()"
   ]
  },
  {
   "cell_type": "code",
   "execution_count": null,
   "id": "a08ab6cf",
   "metadata": {},
   "outputs": [],
   "source": [
    "# simple frequency analysis after stemming - Top 30 words\n",
    "freq = pd.Series(' '.join(papers[\"Text\"]).split()).value_counts()[:30]\n",
    "freq"
   ]
  },
  {
   "cell_type": "code",
   "execution_count": null,
   "id": "da46620d",
   "metadata": {},
   "outputs": [],
   "source": [
    "# further remove custom stopwords, which are problem specific\n",
    "stop += [\"would\", \"may\", \"must\", \"one\", \"upon\", \"might\", \"shall\", \"could\"]\n",
    "papers[\"Text\"] = papers[\"Text\"].apply(lambda x: \" \".join(x for x in x.split()\n",
    "                                                         if x not in stop))\n",
    "dim()"
   ]
  },
  {
   "cell_type": "code",
   "execution_count": null,
   "id": "846981c5",
   "metadata": {},
   "outputs": [],
   "source": [
    "# simple frequency analysis after another round of stop words\n",
    "freq = pd.Series(' '.join(papers[\"Text\"]).split()).value_counts()[:30]\n",
    "freq"
   ]
  },
  {
   "cell_type": "code",
   "execution_count": null,
   "id": "e9b9e1f6",
   "metadata": {},
   "outputs": [],
   "source": []
  }
 ],
 "metadata": {
  "kernelspec": {
   "display_name": "Python 3 (ipykernel)",
   "language": "python",
   "name": "python3"
  },
  "language_info": {
   "codemirror_mode": {
    "name": "ipython",
    "version": 3
   },
   "file_extension": ".py",
   "mimetype": "text/x-python",
   "name": "python",
   "nbconvert_exporter": "python",
   "pygments_lexer": "ipython3",
   "version": "3.9.7"
  }
 },
 "nbformat": 4,
 "nbformat_minor": 5
}
