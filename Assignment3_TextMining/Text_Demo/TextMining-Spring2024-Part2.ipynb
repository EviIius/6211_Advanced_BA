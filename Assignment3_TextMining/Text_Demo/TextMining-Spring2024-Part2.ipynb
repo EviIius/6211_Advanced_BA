{
 "cells": [
  {
   "cell_type": "code",
   "execution_count": null,
   "id": "fe4a8e05",
   "metadata": {},
   "outputs": [],
   "source": [
    "# Text Mining - Federalist Papers\n",
    "# Part 2\n",
    "# We will combine all text pre-processing into a single cell and proceed from there\n",
    "# Word cloud, document similarity and clustering"
   ]
  },
  {
   "cell_type": "code",
   "execution_count": null,
   "id": "c20fac29",
   "metadata": {},
   "outputs": [],
   "source": [
    "# import key libraries\n",
    "import pandas as pd\n",
    "import numpy as np\n",
    "import matplotlib.pyplot as plt"
   ]
  },
  {
   "cell_type": "code",
   "execution_count": null,
   "id": "2a74df72",
   "metadata": {},
   "outputs": [],
   "source": [
    "# the dataset is in Documents folder, so changing default folder to Documents before reading\n",
    "# import os and change directory to Documents\n",
    "import os\n",
    "# os.chdir(\"Documents\")\n",
    "\n",
    "# read federalist.csv\n",
    "papers = pd.read_csv(\"federalist.csv\")\n",
    "papers"
   ]
  },
  {
   "cell_type": "code",
   "execution_count": null,
   "id": "13badadc",
   "metadata": {},
   "outputs": [],
   "source": [
    "# combining all pre-processing into a single cell\n",
    "# filter to papers written by Hamilton, Madison, and Unknown\n",
    "papers = papers[papers[\"Author\"].isin([\"HAMILTON\", \"MADISON\",\"UNKNOWN\"])]\n",
    "\n",
    "# remove the common first sentence from all documents\n",
    "papers[\"Text\"] = papers[\"Text\"].str.replace(\"To the People of the State of New York:\", \"\")\n",
    "\n",
    "# Remove punctuation from the text column\n",
    "papers[\"Text\"] = papers[\"Text\"].str.replace('[^\\w\\s]', '', regex=True)\n",
    "\n",
    "# convert all words to lowercase\n",
    "papers[\"Text\"] = papers[\"Text\"].str.lower()\n",
    "\n",
    "# removal of stop_words\n",
    "import nltk\n",
    "from nltk.corpus import stopwords\n",
    "nltk.download(\"stopwords\")\n",
    "\n",
    "stop = stopwords.words(\"english\")\n",
    "\n",
    "papers[\"Text\"] = papers[\"Text\"].apply(lambda x: \" \".join(x for x in x.split()\n",
    "                                                         if x not in stop))\n",
    "# stemming\n",
    "from nltk.stem import PorterStemmer\n",
    "st = PorterStemmer()\n",
    "papers[\"Text\"] = papers[\"Text\"].apply(lambda x: \" \".join([st.stem(word)\n",
    "                                                         for word in x.split()]))\n",
    "\n",
    "# further remove custom stopwords, which are problem specific\n",
    "stop += [\"would\", \"may\", \"must\", \"one\", \"upon\", \"might\", \"shall\", \"could\"]\n",
    "papers[\"Text\"] = papers[\"Text\"].apply(lambda x: \" \".join(x for x in x.split()\n",
    "                                                         if x not in stop))\n",
    "\n",
    "papers[\"Text\"]\n"
   ]
  },
  {
   "cell_type": "code",
   "execution_count": null,
   "id": "e9b9e1f6",
   "metadata": {
    "scrolled": true
   },
   "outputs": [],
   "source": [
    "# remember to install WordCloud first\n",
    "# !pip install WordCloud\n",
    "\n",
    "from wordcloud import WordCloud\n",
    "\n",
    "comment_words = str(' '.join(papers[\"Text\"]).split())\n",
    "\n",
    "# word cloud\n",
    "wordcloud = WordCloud(width=800, height=400, background_color='white').generate(comment_words)\n",
    "\n",
    "# if you get font error, can try the following\n",
    "# wordcloud = WordCloud(font_path='/path/to/your/font.ttf', width=800, height=400, \n",
    "# background_color='white').generate(sample_text)\n",
    "\n",
    "plt.figure(figsize=(8,8))\n",
    "plt.clf()\n",
    "plt.imshow(wordcloud)\n",
    "plt.axis('off')\n",
    "plt.show()"
   ]
  },
  {
   "cell_type": "code",
   "execution_count": null,
   "id": "9b8254c2",
   "metadata": {},
   "outputs": [],
   "source": [
    "# Further text mining with terms and documents\n",
    "# Tokenize the documents in the Text column\n",
    "corpus = [doc.split() for doc in papers[\"Text\"]]"
   ]
  },
  {
   "cell_type": "code",
   "execution_count": null,
   "id": "b0afb6f1",
   "metadata": {},
   "outputs": [],
   "source": [
    "corpus[0:10]"
   ]
  },
  {
   "cell_type": "code",
   "execution_count": null,
   "id": "dfa43f9c",
   "metadata": {},
   "outputs": [],
   "source": [
    "import gensim\n",
    "from gensim import corpora, models"
   ]
  },
  {
   "cell_type": "code",
   "execution_count": null,
   "id": "0310c6bd",
   "metadata": {},
   "outputs": [],
   "source": [
    "# Create the term dictionary of the corpus\n",
    "dictionary = corpora.Dictionary(corpus)"
   ]
  },
  {
   "cell_type": "code",
   "execution_count": null,
   "id": "9a19e315",
   "metadata": {},
   "outputs": [],
   "source": [
    "dictionary.filter_extremes(no_below = 2, no_above = 0.75)"
   ]
  },
  {
   "cell_type": "code",
   "execution_count": null,
   "id": "ffcfa0cc",
   "metadata": {},
   "outputs": [],
   "source": [
    "# Convert the corpus into Document Term Matrix\n",
    "DFM = [dictionary.doc2bow(doc) for doc in corpus]"
   ]
  },
  {
   "cell_type": "code",
   "execution_count": null,
   "id": "633ea15e",
   "metadata": {},
   "outputs": [],
   "source": [
    "print(DFM)"
   ]
  },
  {
   "cell_type": "code",
   "execution_count": null,
   "id": "df13e03d",
   "metadata": {},
   "outputs": [],
   "source": [
    "# number of documents\n",
    "len(DFM)"
   ]
  },
  {
   "cell_type": "code",
   "execution_count": null,
   "id": "5865617f",
   "metadata": {},
   "outputs": [],
   "source": [
    "# number of terms\n",
    "len(dictionary.token2id)"
   ]
  },
  {
   "cell_type": "code",
   "execution_count": null,
   "id": "67b50b7f-e8a8-43d2-abb1-37a6e4023d7c",
   "metadata": {},
   "outputs": [],
   "source": [
    "# Compute similarity between documents\n",
    "# Distance is 1-similarity\n",
    "from gensim.similarities import MatrixSimilarity\n",
    "simil = MatrixSimilarity(DFM, num_features=len(dictionary))\n",
    "distance = 1 - simil[DFM]\n",
    "\n",
    "# convert simil to a data frame\n",
    "text_sim = pd.DataFrame(simil[DFM])\n",
    "text_sim[2]"
   ]
  },
  {
   "cell_type": "code",
   "execution_count": null,
   "id": "80fa04b2-6d8a-4e94-a76f-a688e646acea",
   "metadata": {},
   "outputs": [],
   "source": [
    "text_sim[0:5]"
   ]
  },
  {
   "cell_type": "code",
   "execution_count": null,
   "id": "03becf8d-307b-46e6-aa47-ba477a6bd24d",
   "metadata": {},
   "outputs": [],
   "source": [
    "# hierarchical clustering of the documents\n",
    "from scipy.cluster import hierarchy\n",
    "import matplotlib.pyplot as plt\n",
    "\n",
    "Z = hierarchy.single(distance)\n",
    "\n",
    "plt.figure(figsize=(20,10))\n",
    "\n",
    "dn = hierarchy.dendrogram(Z, orientation='right', leaf_font_size='11', labels=papers.index)\n"
   ]
  },
  {
   "cell_type": "code",
   "execution_count": null,
   "id": "4ba5907b-7bf2-49dc-bbe9-d4a2eb556dbf",
   "metadata": {
    "scrolled": true
   },
   "outputs": [],
   "source": [
    "# Creating TF-IDF for K-means clustering\n",
    "from sklearn.feature_extraction.text import TfidfVectorizer\n",
    "from sklearn.cluster import KMeans\n",
    "\n",
    "# Vectorize the documents using TF-IDF\n",
    "tfidf_vectorizer = TfidfVectorizer(max_df=0.5, min_df=2, stop_words='english')\n",
    "tfidf_matrix = tfidf_vectorizer.fit_transform(papers[\"Text\"])\n",
    "\n",
    "# Convert TF-IDF matrix to a DataFrame to visualize it better (optional)\n",
    "tfidf_df = pd.DataFrame(tfidf_matrix.toarray(), columns=tfidf_vectorizer.get_feature_names_out())\n",
    "\n",
    "# Display the first few rows of the TF-IDF DataFrame\n",
    "print(tfidf_df.head())\n"
   ]
  },
  {
   "cell_type": "code",
   "execution_count": null,
   "id": "2247fb3d-f7d4-4998-b694-b78576bc0796",
   "metadata": {},
   "outputs": [],
   "source": [
    "# Perform KMeans clustering\n",
    "num_clusters = 5  # Assuming we want to cluster the documents into 5 clusters\n",
    "kmeans = KMeans(n_clusters=num_clusters, random_state=42)\n",
    "kmeans.fit(tfidf_matrix)\n",
    "\n",
    "# Assign the cluster labels to the documents\n",
    "papers['Cluster'] = kmeans.labels_\n",
    "\n",
    "# Display the first few rows of the dataframe with cluster assignments\n",
    "print(papers[['ID', 'Author', 'Cluster']].head())\n",
    "\n",
    "# Optionally, examine cluster centroids or top terms per cluster\n",
    "print(\"Top terms per cluster:\")\n",
    "\n",
    "order_centroids = kmeans.cluster_centers_.argsort()[:, ::-1]\n",
    "terms = tfidf_vectorizer.get_feature_names_out()\n",
    "\n",
    "for i in range(num_clusters):\n",
    "    top_ten_words = [terms[ind] for ind in order_centroids[i, :10]]\n",
    "    print(f\"Cluster {i}: {' '.join(top_ten_words)}\")"
   ]
  },
  {
   "cell_type": "code",
   "execution_count": null,
   "id": "b70da205-e9b8-463e-b380-153580aaaad9",
   "metadata": {},
   "outputs": [],
   "source": [
    "# Word similarity - Word2Vector a word embedding model to identify similar words\n",
    "# https://radimrehurek.com/gensim/models/word2vec.html\n",
    "# window: maximum distance between target word and words around it, default=5\n",
    "# min_count: minimum count of words to consider when training model, default=5\n",
    "# workers: number of partitions during training, default=3\n",
    "#sg: the training algorithm, CBOW (0) or skip gram (1), default=CBOW\n",
    "\n",
    "from gensim.models import Word2Vec\n",
    "\n",
    "# train model\n",
    "model = Word2Vec(corpus, min_count=20, workers=3, window=3, sg=0)\n",
    "\n",
    "# most similar words to 'state'\n",
    "model.wv.most_similar(\"state\", topn=10)"
   ]
  },
  {
   "cell_type": "code",
   "execution_count": null,
   "id": "0119dc5a-fac7-449e-9735-4ec35362f663",
   "metadata": {},
   "outputs": [],
   "source": []
  }
 ],
 "metadata": {
  "kernelspec": {
   "display_name": "Python 3 (ipykernel)",
   "language": "python",
   "name": "python3"
  },
  "language_info": {
   "codemirror_mode": {
    "name": "ipython",
    "version": 3
   },
   "file_extension": ".py",
   "mimetype": "text/x-python",
   "name": "python",
   "nbconvert_exporter": "python",
   "pygments_lexer": "ipython3",
   "version": "3.11.7"
  }
 },
 "nbformat": 4,
 "nbformat_minor": 5
}
